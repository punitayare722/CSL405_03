{
  "nbformat": 4,
  "nbformat_minor": 0,
  "metadata": {
    "colab": {
      "provenance": [],
      "authorship_tag": "ABX9TyMjVmjvcp8DiYWMuXtwup9S",
      "include_colab_link": true
    },
    "kernelspec": {
      "name": "python3",
      "display_name": "Python 3"
    },
    "language_info": {
      "name": "python"
    }
  },
  "cells": [
    {
      "cell_type": "markdown",
      "metadata": {
        "id": "view-in-github",
        "colab_type": "text"
      },
      "source": [
        "<a href=\"https://colab.research.google.com/github/punitayare722/CSL405_03/blob/main/Copy_of_main.ipynb\" target=\"_parent\"><img src=\"https://colab.research.google.com/assets/colab-badge.svg\" alt=\"Open In Colab\"/></a>"
      ]
    },
    {
      "cell_type": "code",
      "execution_count": null,
      "metadata": {
        "colab": {
          "base_uri": "https://localhost:8080/"
        },
        "id": "aLW1fLLuRir_",
        "outputId": "6d556112-23ee-43c7-d866-857b29b0007c"
      },
      "outputs": [
        {
          "output_type": "stream",
          "name": "stdout",
          "text": [
            "Developer is a full stack developer\n",
            "Developer\tTrue\tTrue\n"
          ]
        }
      ],
      "source": [
        "\n",
        "\n",
        "class Employee:\n",
        "    def __init__ (\n",
        "            self,\n",
        "            designation : str = 'Developer',\n",
        "            frontend : bool = True,\n",
        "            backend : bool = True\n",
        "    ):\n",
        "        self.designation = designation\n",
        "        self.frontend = frontend\n",
        "        self.backend = backend\n",
        "\n",
        "    def __repr__ (self):\n",
        "        return '{}\\t{}\\t{}'.format (self.designation, self.frontend, self.backend)\n",
        "\n",
        "    ### Write the your method over here.\n",
        "    def verifier (self):\n",
        "        if self.frontend and self.backend:\n",
        "           return f'{self.designation} is a full stack developer'\n",
        "        elif self.frontend:\n",
        "          return f'{self.designation} is a frontend developer'\n",
        "        elif self.backend:\n",
        "          return f'{self.designation} is a backend developer'\n",
        "        else:\n",
        "          return  'nothing'\n",
        "        emp=Employee()\n",
        "    def user_input():\n",
        "      designation=input('Enter the position')\n",
        "      frontend_input=input('are you a frontend developer(yes/no)')\n",
        "\n",
        "if __name__ == '__main__':\n",
        "    firstEmployee = Employee ()\n",
        "    print(firstEmployee.verifier())\n",
        "    print(emp)\n",
        "    # Call the method here to display output.\n"
      ]
    }
  ]
}