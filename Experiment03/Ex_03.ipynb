{
  "nbformat": 4,
  "nbformat_minor": 0,
  "metadata": {
    "colab": {
      "provenance": []
    },
    "kernelspec": {
      "name": "python3",
      "display_name": "Python 3"
    },
    "language_info": {
      "name": "python"
    }
  },
  "cells": [
    {
      "cell_type": "code",
      "execution_count": 16,
      "metadata": {
        "colab": {
          "base_uri": "https://localhost:8080/"
        },
        "id": "cuHo8ilzTz3i",
        "outputId": "94b7cb03-25d1-40c5-f9c6-f82f76d1ead5"
      },
      "outputs": [
        {
          "output_type": "stream",
          "name": "stdout",
          "text": [
            "Lines: 3\n",
            "Words: 13\n",
            "Characters: 80\n"
          ]
        }
      ],
      "source": [
        "\n",
        "with open(\"file.txt\", \"w\") as file:\n",
        "    file.write(\"This is a sample file..\\n\")\n",
        "\n",
        "with open(\"file.txt\", \"a\") as file:\n",
        "    file.write(\"It contains multiple lines.\\n\")\n",
        "\n",
        "with open(\"file.txt\", \"a\") as file:\n",
        "    file.write(\"It contains multiple lines.\\n\")\n",
        "\n",
        "\n",
        "if __name__ == '__main__':\n",
        "    with open('./file.txt', 'r') as file:\n",
        "        lines = file.readlines()\n",
        "\n",
        "    numberOfLines = len(lines)\n",
        "    numberOfWords = sum(len(line.split()) for line in lines)\n",
        "    numberOfCharacters = sum(len(line) for line in lines)\n",
        "\n",
        "\n",
        "    print(f\"Lines: {numberOfLines}\")\n",
        "    print(f\"Words: {numberOfWords}\")\n",
        "    print(f\"Characters: {numberOfCharacters}\")\n",
        "    file.close()\n"
      ]
    }
  ]
}
