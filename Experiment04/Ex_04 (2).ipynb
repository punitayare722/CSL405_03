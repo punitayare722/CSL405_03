{
  "nbformat": 4,
  "nbformat_minor": 0,
  "metadata": {
    "colab": {
      "provenance": []
    },
    "kernelspec": {
      "name": "python3",
      "display_name": "Python 3"
    },
    "language_info": {
      "name": "python"
    }
  },
  "cells": [
    {
      "cell_type": "code",
      "execution_count": null,
      "metadata": {
        "colab": {
          "base_uri": "https://localhost:8080/"
        },
        "id": "YR3URx-uUO1w",
        "outputId": "1f90406c-091d-472d-b8df-1459d5e30be8"
      },
      "outputs": [
        {
          "output_type": "stream",
          "name": "stdout",
          "text": [
            "Files in the current directory:\n",
            "file.txt\n"
          ]
        }
      ],
      "source": [
        "\n",
        "from pathlib import Path\n",
        "\n",
        "file_path = Path(\"file.txt\")\n",
        "file_path.write_text(\"This is a sample file..\\n\")\n",
        "\n",
        "\n",
        "files = [f.name for f in Path('.').iterdir() if f.is_file()]\n",
        "\n",
        "print(\"Files in the current directory:\")\n",
        "for file in files:\n",
        "    print(file)\n",
        "\n"
      ]
    },
    {
      "cell_type": "code",
      "source": [
        "import os\n",
        "with open(\"file.txt\", \"w\") as file:\n",
        " file.write(\"This is a sample file..\\n\")\n",
        "\n",
        "files = [f for f in os.listdir('.') if os.path.isfile(f)]\n",
        "\n",
        "print(\"Files in the current directory:\")\n",
        "for file in files:\n",
        "   print(file)"
      ],
      "metadata": {
        "colab": {
          "base_uri": "https://localhost:8080/"
        },
        "id": "c8bwM8XCa3fJ",
        "outputId": "879136fe-070b-42fc-ceba-8769049783b4"
      },
      "execution_count": 4,
      "outputs": [
        {
          "output_type": "stream",
          "name": "stdout",
          "text": [
            "Files in the current directory:\n",
            "file.txt\n"
          ]
        }
      ]
    }
  ]
}